{
 "cells": [
  {
   "cell_type": "code",
   "execution_count": null,
   "id": "794f5f5b",
   "metadata": {},
   "outputs": [],
   "source": [
    "-- Queries: Deliverable 1\n",
    "-- RETIREMENT TITLES TABLE\n",
    "SELECT\n",
    "\te.emp_no,\n",
    "\te.first_name,\n",
    "\te.last_name,\n",
    "\ttit.title,\n",
    "\ttit.from_date,\n",
    "\ttit.to_date\n",
    "INTO retirement_titles\n",
    "FROM employees as e\n",
    "INNER JOIN titles as tit \n",
    "ON (e.emp_no = tit.emp_no)\n",
    "WHERE e.birth_date BETWEEN '1952-01-01' AND '1955-12-31'\n",
    "ORDER BY e,emp_no;\n",
    "\n",
    "SELECT * FROM RETIREMENT_TITLES\n",
    "\n",
    "-- Remove duplicates and keep only the most recent title of each employee. Use Dictinct with Orderby to remove duplicate rows\n",
    "-- UNIQUE TITLES TABLE\n",
    "SELECT DISTINCT ON (emp_no) emp_no,\n",
    "\tfirst_name,\n",
    "\tlast_name,\n",
    "\ttitle\n",
    "INTO unique_titles\n",
    "FROM retirement_titles\n",
    "WHERE to_date = '9999-01-01'\n",
    "ORDER BY emp_no ASC, to_date DESC;\n",
    "\n",
    "SELECT * FROM UNIQUE_TITLES\n",
    "\n",
    "-- Number of employees by their most recent job title who are about to retire\n",
    "-- RETIRING TITLES TABLE\n",
    "SELECT COUNT(title), title\n",
    "INTO retiring_titles\n",
    "FROM unique_titles\n",
    "GROUP BY title\n",
    "ORDER BY COUNT(title) DESC;\n",
    "\n",
    "SELECT * FROM retiring_titles"
   ]
  }
 ],
 "metadata": {
  "kernelspec": {
   "display_name": "Python 3 (ipykernel)",
   "language": "python",
   "name": "python3"
  },
  "language_info": {
   "codemirror_mode": {
    "name": "ipython",
    "version": 3
   },
   "file_extension": ".py",
   "mimetype": "text/x-python",
   "name": "python",
   "nbconvert_exporter": "python",
   "pygments_lexer": "ipython3",
   "version": "3.9.7"
  }
 },
 "nbformat": 4,
 "nbformat_minor": 5
}
